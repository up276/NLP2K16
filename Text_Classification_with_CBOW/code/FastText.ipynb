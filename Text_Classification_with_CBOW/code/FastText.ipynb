{
 "cells": [
  {
   "cell_type": "code",
   "execution_count": 13,
   "metadata": {
    "collapsed": true
   },
   "outputs": [],
   "source": [
    "import numpy as np\n",
    "import os\n",
    "from collections import Counter\n",
    "import re\n",
    "import itertools\n",
    "\n"
   ]
  },
  {
   "cell_type": "code",
   "execution_count": 14,
   "metadata": {
    "collapsed": true
   },
   "outputs": [],
   "source": [
    "def clean_str(string, cut_review=10000):\n",
    "    \"\"\"\n",
    "    Tokenization/string cleaning for all datasets except for SST.\n",
    "    Original taken from https://github.com/yoonkim/CNN_sentence/blob/master/process_data.py\n",
    "    \"\"\"\n",
    "    string = ' '.join(string.split()[:min(cut_review,len(string.split()))])\n",
    "    string = re.sub(r\"[^A-Za-z0-9(),!?\\'\\`]\", \" \", string)\n",
    "    string = re.sub(r\"\\'s\", \" \\'s\", string)\n",
    "    string = re.sub(r\"\\'ve\", \" \\'ve\", string)\n",
    "    string = re.sub(r\"n\\'t\", \" n\\'t\", string)\n",
    "    string = re.sub(r\"\\'re\", \" \\'re\", string)\n",
    "    string = re.sub(r\"\\'d\", \" \\'d\", string)\n",
    "    string = re.sub(r\"\\'ll\", \" \\'ll\", string)\n",
    "    string = re.sub(r\",\", \" , \", string)\n",
    "    string = re.sub(r\"!\", \" ! \", string)\n",
    "    string = re.sub(r\"\\(\", \" \\( \", string)\n",
    "    string = re.sub(r\"\\)\", \" \\) \", string)\n",
    "    string = re.sub(r\"\\?\", \" \\? \", string)\n",
    "    string = re.sub(r\"\\s{2,}\", \" \", string)\n",
    "    return string.strip().lower()\n",
    "\n",
    "def load_data(path):\n",
    "    # Load data from files\n",
    "    examples = []\n",
    "    for filename in os.listdir(path):\n",
    "        examples.append(open(path+filename, \"r\").readlines()[0].strip())\n",
    "    return examples\n"
   ]
  },
  {
   "cell_type": "code",
   "execution_count": 29,
   "metadata": {
    "collapsed": true
   },
   "outputs": [],
   "source": [
    "def create_fasttext_datafile(input_paths, output_file):\n",
    "    for path in input_paths:\n",
    "        print \"path :\",path\n",
    "        for filename in os.listdir(path):\n",
    "            #print \"file :\",filename\n",
    "            review = open(path+filename, \"r\").readlines()[0].strip()\n",
    "            # clean + cut review after cut_review words\n",
    "            review = clean_str(review)\n",
    "            if 'pos' in path:\n",
    "                label = '__label__pos\\n'\n",
    "            if 'neg' in path:\n",
    "                label = '__label__neg\\n'\n",
    "            #review = replace_by_oov(review)\n",
    "            # Create bigrams\n",
    "            #bigrams =  createBigGram(review)\n",
    "            review_with_label= ' '.join([review, label])\n",
    "            clean_review = open(output_file, \"a\")\n",
    "            clean_review.write(review_with_label)\n",
    "            clean_review.close()\n",
    "            \n",
    "train_files = ['./data/aclImdb/train/pos/','./data/aclImdb/train/neg/']\n",
    "test_files = ['./data/aclImdb/test/pos/','./data/aclImdb/test/neg/']\n",
    "train_output_file = './data/fasttext/train/fasttext_train.txt'\n",
    "test_output_file = './data/fasttext/test/fasttext_test.txt'"
   ]
  },
  {
   "cell_type": "code",
   "execution_count": 30,
   "metadata": {
    "collapsed": false
   },
   "outputs": [
    {
     "name": "stdout",
     "output_type": "stream",
     "text": [
      "path : ./data/aclImdb/train/pos/\n",
      "path : ./data/aclImdb/train/neg/\n"
     ]
    }
   ],
   "source": [
    "create_fasttext_datafile(train_files,train_output_file)"
   ]
  },
  {
   "cell_type": "code",
   "execution_count": 31,
   "metadata": {
    "collapsed": false
   },
   "outputs": [
    {
     "name": "stdout",
     "output_type": "stream",
     "text": [
      "path : ./data/aclImdb/test/pos/\n",
      "path : ./data/aclImdb/test/neg/\n"
     ]
    }
   ],
   "source": [
    "create_fasttext_datafile(test_files,test_output_file)"
   ]
  },
  {
   "cell_type": "code",
   "execution_count": 35,
   "metadata": {
    "collapsed": false
   },
   "outputs": [],
   "source": [
    "import random\n",
    "with open('./data/fasttext/train/fasttext_train.txt','r') as source:\n",
    "    data = [ (random.random(), line) for line in source ]\n",
    "data.sort()\n",
    "with open('./data/fasttext/train/fasttext_train_suffuled.txt','w') as target:\n",
    "    for _, line in data:\n",
    "        target.write( line )"
   ]
  },
  {
   "cell_type": "code",
   "execution_count": 5,
   "metadata": {
    "collapsed": false
   },
   "outputs": [],
   "source": [
    "if 'neg' in './data/aclImdb/train/pos/':\n",
    "    print \"hi\"\n"
   ]
  },
  {
   "cell_type": "code",
   "execution_count": null,
   "metadata": {
    "collapsed": true
   },
   "outputs": [],
   "source": []
  },
  {
   "cell_type": "code",
   "execution_count": 47,
   "metadata": {
    "collapsed": false
   },
   "outputs": [],
   "source": [
    "f = open('/home/urjit/NLP_DeepLearning/HW2/FastText/data/fasttest_predictions.txt', 'r')"
   ]
  },
  {
   "cell_type": "code",
   "execution_count": 48,
   "metadata": {
    "collapsed": false
   },
   "outputs": [
    {
     "name": "stdout",
     "output_type": "stream",
     "text": [
      "counter : 25001\n",
      "correct_predictions : 21889\n",
      "Accuracy : 0.87556\n"
     ]
    }
   ],
   "source": [
    "counter =1;\n",
    "correct_predictions = 0\n",
    "for line in f:\n",
    "    line_val = line\n",
    "    #print line_val\n",
    "    if counter <= 12500:\n",
    "        if line_val.strip() =='__label__pos':\n",
    "            \n",
    "            correct_predictions+=1\n",
    "    else:\n",
    "        if line_val.strip() =='__label__neg':\n",
    "            correct_predictions+=1\n",
    "    counter+=1\n",
    "print \"counter :\",counter\n",
    "print \"correct_predictions :\",correct_predictions\n",
    "print \"Accuracy :\",float(correct_predictions)/25000.0"
   ]
  },
  {
   "cell_type": "code",
   "execution_count": 40,
   "metadata": {
    "collapsed": false
   },
   "outputs": [
    {
     "data": {
      "text/plain": [
       "0"
      ]
     },
     "execution_count": 40,
     "metadata": {},
     "output_type": "execute_result"
    }
   ],
   "source": []
  },
  {
   "cell_type": "code",
   "execution_count": null,
   "metadata": {
    "collapsed": true
   },
   "outputs": [],
   "source": []
  }
 ],
 "metadata": {
  "kernelspec": {
   "display_name": "Python 2",
   "language": "python",
   "name": "python2"
  },
  "language_info": {
   "codemirror_mode": {
    "name": "ipython",
    "version": 2
   },
   "file_extension": ".py",
   "mimetype": "text/x-python",
   "name": "python",
   "nbconvert_exporter": "python",
   "pygments_lexer": "ipython2",
   "version": "2.7.10"
  }
 },
 "nbformat": 4,
 "nbformat_minor": 0
}
